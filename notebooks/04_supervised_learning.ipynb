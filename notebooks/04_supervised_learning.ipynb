{
 "cells": [
  {
   "cell_type": "markdown",
   "id": "201d9c9a",
   "metadata": {},
   "source": [
    "# 04 Supervised Learning\n",
    "\n",
    "**Objective:**  \n",
    "- Load the selected features dataset.  \n",
    "- Split into train/test sets.  \n",
    "- Train multiple supervised learning models:  \n",
    "  - Logistic Regression  \n",
    "  - Decision Tree  \n",
    "  - Random Forest  \n",
    "  - Support Vector Machine (SVM)  \n",
    "  - K-Nearest Neighbors (KNN)  \n",
    "- Evaluate models using accuracy, precision, recall, F1-score.  \n",
    "- Save evaluation metrics for comparison.\n"
   ]
  },
  {
   "cell_type": "code",
   "execution_count": 2,
   "id": "345f003a",
   "metadata": {},
   "outputs": [],
   "source": [
    "import pandas as pd\n",
    "import numpy as np\n",
    "import matplotlib.pyplot as plt\n",
    "import seaborn as sns\n",
    "\n",
    "from sklearn.model_selection import train_test_split\n",
    "from sklearn.linear_model import LogisticRegression\n",
    "from sklearn.tree import DecisionTreeClassifier\n",
    "from sklearn.ensemble import RandomForestClassifier\n",
    "from sklearn.svm import SVC\n",
    "from sklearn.neighbors import KNeighborsClassifier\n",
    "from sklearn.metrics import accuracy_score, precision_score, recall_score, f1_score, classification_report\n"
   ]
  },
  {
   "cell_type": "code",
   "execution_count": 3,
   "id": "a31ccf30",
   "metadata": {},
   "outputs": [
    {
     "name": "stdout",
     "output_type": "stream",
     "text": [
      "✅ Dataset loaded\n",
      "(299, 11)\n"
     ]
    },
    {
     "data": {
      "text/html": [
       "<div>\n",
       "<style scoped>\n",
       "    .dataframe tbody tr th:only-of-type {\n",
       "        vertical-align: middle;\n",
       "    }\n",
       "\n",
       "    .dataframe tbody tr th {\n",
       "        vertical-align: top;\n",
       "    }\n",
       "\n",
       "    .dataframe thead th {\n",
       "        text-align: right;\n",
       "    }\n",
       "</style>\n",
       "<table border=\"1\" class=\"dataframe\">\n",
       "  <thead>\n",
       "    <tr style=\"text-align: right;\">\n",
       "      <th></th>\n",
       "      <th>trestbps</th>\n",
       "      <th>thalch</th>\n",
       "      <th>oldpeak</th>\n",
       "      <th>ca</th>\n",
       "      <th>sex_Male_True</th>\n",
       "      <th>cp_non-anginal_True</th>\n",
       "      <th>cp_typical angina_True</th>\n",
       "      <th>exang_True_True</th>\n",
       "      <th>slope_flat_True</th>\n",
       "      <th>thal_reversable defect_True</th>\n",
       "      <th>target</th>\n",
       "    </tr>\n",
       "  </thead>\n",
       "  <tbody>\n",
       "    <tr>\n",
       "      <th>0</th>\n",
       "      <td>0.749760</td>\n",
       "      <td>0.029124</td>\n",
       "      <td>1.069475</td>\n",
       "      <td>-0.718306</td>\n",
       "      <td>0.687682</td>\n",
       "      <td>-0.619886</td>\n",
       "      <td>3.464102</td>\n",
       "      <td>-0.703562</td>\n",
       "      <td>-0.932068</td>\n",
       "      <td>-0.801784</td>\n",
       "      <td>0</td>\n",
       "    </tr>\n",
       "    <tr>\n",
       "      <th>1</th>\n",
       "      <td>1.596354</td>\n",
       "      <td>-1.790447</td>\n",
       "      <td>0.380309</td>\n",
       "      <td>2.487269</td>\n",
       "      <td>0.687682</td>\n",
       "      <td>-0.619886</td>\n",
       "      <td>-0.288675</td>\n",
       "      <td>1.421338</td>\n",
       "      <td>1.072884</td>\n",
       "      <td>-0.801784</td>\n",
       "      <td>1</td>\n",
       "    </tr>\n",
       "    <tr>\n",
       "      <th>2</th>\n",
       "      <td>-0.661231</td>\n",
       "      <td>-0.880662</td>\n",
       "      <td>1.327912</td>\n",
       "      <td>1.418744</td>\n",
       "      <td>0.687682</td>\n",
       "      <td>-0.619886</td>\n",
       "      <td>-0.288675</td>\n",
       "      <td>1.421338</td>\n",
       "      <td>1.072884</td>\n",
       "      <td>1.247219</td>\n",
       "      <td>1</td>\n",
       "    </tr>\n",
       "    <tr>\n",
       "      <th>3</th>\n",
       "      <td>-0.096835</td>\n",
       "      <td>1.632079</td>\n",
       "      <td>2.103224</td>\n",
       "      <td>-0.718306</td>\n",
       "      <td>0.687682</td>\n",
       "      <td>1.613199</td>\n",
       "      <td>-0.288675</td>\n",
       "      <td>-0.703562</td>\n",
       "      <td>-0.932068</td>\n",
       "      <td>-0.801784</td>\n",
       "      <td>0</td>\n",
       "    </tr>\n",
       "    <tr>\n",
       "      <th>4</th>\n",
       "      <td>-0.096835</td>\n",
       "      <td>0.982232</td>\n",
       "      <td>0.294163</td>\n",
       "      <td>-0.718306</td>\n",
       "      <td>-1.454161</td>\n",
       "      <td>-0.619886</td>\n",
       "      <td>-0.288675</td>\n",
       "      <td>-0.703562</td>\n",
       "      <td>-0.932068</td>\n",
       "      <td>-0.801784</td>\n",
       "      <td>0</td>\n",
       "    </tr>\n",
       "  </tbody>\n",
       "</table>\n",
       "</div>"
      ],
      "text/plain": [
       "   trestbps    thalch   oldpeak        ca  sex_Male_True  cp_non-anginal_True  \\\n",
       "0  0.749760  0.029124  1.069475 -0.718306       0.687682            -0.619886   \n",
       "1  1.596354 -1.790447  0.380309  2.487269       0.687682            -0.619886   \n",
       "2 -0.661231 -0.880662  1.327912  1.418744       0.687682            -0.619886   \n",
       "3 -0.096835  1.632079  2.103224 -0.718306       0.687682             1.613199   \n",
       "4 -0.096835  0.982232  0.294163 -0.718306      -1.454161            -0.619886   \n",
       "\n",
       "   cp_typical angina_True  exang_True_True  slope_flat_True  \\\n",
       "0                3.464102        -0.703562        -0.932068   \n",
       "1               -0.288675         1.421338         1.072884   \n",
       "2               -0.288675         1.421338         1.072884   \n",
       "3               -0.288675        -0.703562        -0.932068   \n",
       "4               -0.288675        -0.703562        -0.932068   \n",
       "\n",
       "   thal_reversable defect_True  target  \n",
       "0                    -0.801784       0  \n",
       "1                    -0.801784       1  \n",
       "2                     1.247219       1  \n",
       "3                    -0.801784       0  \n",
       "4                    -0.801784       0  "
      ]
     },
     "execution_count": 3,
     "metadata": {},
     "output_type": "execute_result"
    }
   ],
   "source": [
    "# Load the dataset with selected features\n",
    "df = pd.read_csv(\"../data/heart_disease_selected.csv\")\n",
    "\n",
    "print(\"✅ Dataset loaded\")\n",
    "print(df.shape)\n",
    "df.head()\n"
   ]
  },
  {
   "cell_type": "code",
   "execution_count": 4,
   "id": "63d6a598",
   "metadata": {},
   "outputs": [
    {
     "name": "stdout",
     "output_type": "stream",
     "text": [
      "Training set: (239, 10)\n",
      "Test set: (60, 10)\n"
     ]
    }
   ],
   "source": [
    "# Split into features and target\n",
    "X = df.drop(columns=[\"target\"])\n",
    "y = df[\"target\"]\n",
    "\n",
    "# Train/test split\n",
    "X_train, X_test, y_train, y_test = train_test_split(\n",
    "    X, y, test_size=0.2, random_state=42, stratify=y\n",
    ")\n",
    "\n",
    "print(\"Training set:\", X_train.shape)\n",
    "print(\"Test set:\", X_test.shape)\n"
   ]
  },
  {
   "cell_type": "code",
   "execution_count": 5,
   "id": "3d5a1dfe",
   "metadata": {},
   "outputs": [],
   "source": [
    "models = {\n",
    "    \"Logistic Regression\": LogisticRegression(max_iter=1000, solver=\"liblinear\"),\n",
    "    \"Decision Tree\": DecisionTreeClassifier(random_state=42),\n",
    "    \"Random Forest\": RandomForestClassifier(n_estimators=100, random_state=42),\n",
    "    \"SVM\": SVC(kernel=\"rbf\", probability=True, random_state=42),\n",
    "    \"KNN\": KNeighborsClassifier(n_neighbors=5)\n",
    "}\n"
   ]
  },
  {
   "cell_type": "code",
   "execution_count": 6,
   "id": "57d2058e",
   "metadata": {},
   "outputs": [
    {
     "name": "stdout",
     "output_type": "stream",
     "text": [
      "\n",
      "Logistic Regression Classification Report:\n",
      "\n",
      "              precision    recall  f1-score   support\n",
      "\n",
      "           0       0.81      0.91      0.85        32\n",
      "           1       0.88      0.75      0.81        28\n",
      "\n",
      "    accuracy                           0.83        60\n",
      "   macro avg       0.84      0.83      0.83        60\n",
      "weighted avg       0.84      0.83      0.83        60\n",
      "\n",
      "\n",
      "Decision Tree Classification Report:\n",
      "\n",
      "              precision    recall  f1-score   support\n",
      "\n",
      "           0       0.69      0.78      0.74        32\n",
      "           1       0.71      0.61      0.65        28\n",
      "\n",
      "    accuracy                           0.70        60\n",
      "   macro avg       0.70      0.69      0.69        60\n",
      "weighted avg       0.70      0.70      0.70        60\n",
      "\n",
      "\n",
      "Random Forest Classification Report:\n",
      "\n",
      "              precision    recall  f1-score   support\n",
      "\n",
      "           0       0.78      0.88      0.82        32\n",
      "           1       0.83      0.71      0.77        28\n",
      "\n",
      "    accuracy                           0.80        60\n",
      "   macro avg       0.81      0.79      0.80        60\n",
      "weighted avg       0.80      0.80      0.80        60\n",
      "\n",
      "\n",
      "SVM Classification Report:\n",
      "\n",
      "              precision    recall  f1-score   support\n",
      "\n",
      "           0       0.79      0.97      0.87        32\n",
      "           1       0.95      0.71      0.82        28\n",
      "\n",
      "    accuracy                           0.85        60\n",
      "   macro avg       0.87      0.84      0.84        60\n",
      "weighted avg       0.87      0.85      0.85        60\n",
      "\n",
      "\n",
      "KNN Classification Report:\n",
      "\n",
      "              precision    recall  f1-score   support\n",
      "\n",
      "           0       0.78      0.97      0.86        32\n",
      "           1       0.95      0.68      0.79        28\n",
      "\n",
      "    accuracy                           0.83        60\n",
      "   macro avg       0.86      0.82      0.83        60\n",
      "weighted avg       0.86      0.83      0.83        60\n",
      "\n"
     ]
    }
   ],
   "source": [
    "results = []\n",
    "\n",
    "for name, model in models.items():\n",
    "    model.fit(X_train, y_train)\n",
    "    y_pred = model.predict(X_test)\n",
    "\n",
    "    acc = accuracy_score(y_test, y_pred)\n",
    "    prec = precision_score(y_test, y_pred, average=\"weighted\", zero_division=0)\n",
    "    rec = recall_score(y_test, y_pred, average=\"weighted\", zero_division=0)\n",
    "    f1 = f1_score(y_test, y_pred, average=\"weighted\", zero_division=0)\n",
    "\n",
    "    results.append({\n",
    "        \"Model\": name,\n",
    "        \"Accuracy\": acc,\n",
    "        \"Precision\": prec,\n",
    "        \"Recall\": rec,\n",
    "        \"F1-Score\": f1\n",
    "    })\n",
    "\n",
    "    print(f\"\\n{name} Classification Report:\\n\")\n",
    "    print(classification_report(y_test, y_pred, zero_division=0))\n"
   ]
  },
  {
   "cell_type": "code",
   "execution_count": 8,
   "id": "a2ada20f",
   "metadata": {},
   "outputs": [
    {
     "name": "stdout",
     "output_type": "stream",
     "text": [
      "\n",
      "✅ Model Comparison Table:\n",
      "                 Model  Accuracy  Precision    Recall  F1-Score\n",
      "0  Logistic Regression  0.833333   0.837963  0.833333  0.831825\n",
      "1        Decision Tree  0.700000   0.700926  0.700000  0.697285\n",
      "2        Random Forest  0.800000   0.803704  0.800000  0.798190\n",
      "3                  SVM  0.850000   0.868376  0.850000  0.846680\n",
      "4                  KNN  0.833333   0.856667  0.833333  0.828704\n"
     ]
    },
    {
     "data": {
      "image/png": "[encoded data removed]",
      "text/plain": [
       "<Figure size 1000x600 with 1 Axes>"
      ]
     },
     "metadata": {},
     "output_type": "display_data"
    }
   ],
   "source": [
    "results_df = pd.DataFrame(results)\n",
    "print(\"\\n✅ Model Comparison Table:\")\n",
    "print(results_df)\n",
    "\n",
    "# Plot\n",
    "plt.figure(figsize=(10, 6))\n",
    "sns.barplot(data=results_df.melt(id_vars=\"Model\", var_name=\"Metric\", value_name=\"Score\"),\n",
    "            x=\"Model\", y=\"Score\", hue=\"Metric\")\n",
    "plt.title(\"Model Performance Comparison\")\n",
    "plt.xticks(rotation=45)\n",
    "plt.show()\n"
   ]
  },
  {
   "cell_type": "code",
   "execution_count": 9,
   "id": "8b73657f",
   "metadata": {},
   "outputs": [
    {
     "name": "stdout",
     "output_type": "stream",
     "text": [
      "✅ Evaluation metrics saved in ../results/\n"
     ]
    }
   ],
   "source": [
    "# Save results to text file\n",
    "results_df.to_csv(\"../results/evaluation_metrics.csv\", index=False)\n",
    "\n",
    "with open(\"../results/evaluation_metrics.txt\", \"w\") as f:\n",
    "    f.write(results_df.to_string(index=False))\n",
    "\n",
    "print(\"✅ Evaluation metrics saved in ../results/\")\n"
   ]
  }
 ],
 "metadata": {
  "kernelspec": {
   "display_name": "base",
   "language": "python",
   "name": "python3"
  },
  "language_info": {
   "codemirror_mode": {
    "name": "ipython",
    "version": 3
   },
   "file_extension": ".py",
   "mimetype": "text/x-python",
   "name": "python",
   "nbconvert_exporter": "python",
   "pygments_lexer": "ipython3",
   "version": "3.13.5"
  }
 },
 "nbformat": 4,
 "nbformat_minor": 5
}
