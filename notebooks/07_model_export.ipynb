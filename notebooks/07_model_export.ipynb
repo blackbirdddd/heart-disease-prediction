{
 "cells": [
  {
   "cell_type": "code",
   "execution_count": 15,
   "id": "74d15698",
   "metadata": {},
   "outputs": [
    {
     "name": "stdout",
     "output_type": "stream",
     "text": [
      "📌 Columns in cleaned dataset:\n",
      "['id', 'age', 'trestbps', 'chol', 'thalch', 'oldpeak', 'ca', 'sex_Male_True', 'dataset_Hungary_True', 'dataset_VA Long Beach_True', 'cp_atypical angina_True', 'cp_non-anginal_True', 'cp_typical angina_True', 'fbs_True_True', 'restecg_normal_True', 'restecg_st-t abnormality_True', 'exang_True_True', 'slope_flat_True', 'slope_upsloping_True', 'thal_normal_True', 'thal_reversable defect_True', 'target']\n",
      "✅ Final model pipeline has been saved at: ../models/final_model.pkl\n",
      "🧪 Sample Prediction: [0]\n"
     ]
    }
   ],
   "source": [
    "# ============================\n",
    "# 🪜 Step 7: Model Export & Deployment (Final Version)\n",
    "# ============================\n",
    "\n",
    "import os\n",
    "import joblib\n",
    "import pandas as pd\n",
    "from sklearn.model_selection import train_test_split\n",
    "from sklearn.pipeline import Pipeline\n",
    "from sklearn.preprocessing import StandardScaler\n",
    "\n",
    "# 1️⃣ تحميل أفضل موديل من الخطوة 6\n",
    "best_model = joblib.load('../models/temp_best_model.pkl')\n",
    "\n",
    "# 2️⃣ تحميل البيانات المنظفة\n",
    "data = pd.read_csv('../data/heart_disease_cleaned.csv')\n",
    "print(\"📌 Columns in cleaned dataset:\")\n",
    "print(data.columns.tolist())\n",
    "\n",
    "# 3️⃣ تحديد X و y\n",
    "X = data.drop('target', axis=1)\n",
    "y = data['target']\n",
    "\n",
    "# 🧹 حذف الأعمدة غير المفيدة زي 'id' لو موجودة\n",
    "if 'id' in X.columns:\n",
    "    X = X.drop('id', axis=1)\n",
    "\n",
    "# تحديد الأعمدة الرقمية فقط (اللي هنطبق عليها StandardScaler)\n",
    "# الأعمدة الرقمية في بياناتك: age, trestbps, chol, thalch, oldpeak, ca\n",
    "numerical_cols = ['age', 'trestbps', 'chol', 'thalch', 'oldpeak', 'ca']\n",
    "\n",
    "# 4️⃣ تقسيم البيانات\n",
    "X_train, X_test, y_train, y_test = train_test_split(\n",
    "    X, y, test_size=0.2, random_state=42, stratify=y\n",
    ")\n",
    "\n",
    "# 5️⃣ بناء الـ pipeline (Scaler + Model)\n",
    "# نستخدم with_mean=False علشان البيانات فيها OneHotEncoded columns\n",
    "pipeline = Pipeline([\n",
    "    ('scaler', StandardScaler(with_mean=False)),\n",
    "    ('model', best_model)\n",
    "])\n",
    "\n",
    "# 6️⃣ تدريب الـ pipeline\n",
    "pipeline.fit(X_train, y_train)\n",
    "\n",
    "# 7️⃣ إنشاء مجلد models لو مش موجود\n",
    "os.makedirs('../models', exist_ok=True)\n",
    "\n",
    "# 8️⃣ حفظ الـ pipeline النهائية\n",
    "model_path = '../models/final_model.pkl'\n",
    "joblib.dump(pipeline, model_path)\n",
    "\n",
    "print(f\"✅ Final model pipeline has been saved at: {model_path}\")\n",
    "\n",
    "# 9️⃣ اختبار سريع للتأكد إن كل شيء تمام ✅\n",
    "sample = X_test.iloc[0:1]\n",
    "print(\"🧪 Sample Prediction:\", pipeline.predict(sample))\n"
   ]
  },
  {
   "cell_type": "markdown",
   "id": "7e8d5fc0",
   "metadata": {},
   "source": [
    "### 🪜 Step 7 – Model Export & Deployment\n",
    "\n",
    "In this step, we will export the best performing tuned model selected in Step 6 for future deployment.  \n",
    "We will save both the preprocessing steps and the model itself as a single pipeline to ensure reproducibility.\n",
    "\n",
    "#### 📌 Objectives\n",
    "- Save the trained model using `joblib` as a `.pkl` file.\n",
    "- Ensure reproducibility by saving the pipeline (preprocessing + model).\n",
    "\n",
    "#### 📄 Deliverable\n",
    "- ✅ Final model saved as `final_model.pkl` inside the `models/` directory.\n"
   ]
  },
  {
   "cell_type": "code",
   "execution_count": null,
   "id": "84275e98",
   "metadata": {},
   "outputs": [],
   "source": []
  }
 ],
 "metadata": {
  "kernelspec": {
   "display_name": "base",
   "language": "python",
   "name": "python3"
  },
  "language_info": {
   "codemirror_mode": {
    "name": "ipython",
    "version": 3
   },
   "file_extension": ".py",
   "mimetype": "text/x-python",
   "name": "python",
   "nbconvert_exporter": "python",
   "pygments_lexer": "ipython3",
   "version": "3.13.5"
  }
 },
 "nbformat": 4,
 "nbformat_minor": 5
}
